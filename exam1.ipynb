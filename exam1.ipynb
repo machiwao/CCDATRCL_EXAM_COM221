{
  "cells": [
    {
      "cell_type": "markdown",
      "metadata": {
        "id": "view-in-github",
        "colab_type": "text"
      },
      "source": [
        "<a href=\"https://colab.research.google.com/github/machiwao/CCDATRCL_EXAM_COM221/blob/main/exam1.ipynb\" target=\"_parent\"><img src=\"https://colab.research.google.com/assets/colab-badge.svg\" alt=\"Open In Colab\"/></a>"
      ]
    },
    {
      "cell_type": "markdown",
      "metadata": {
        "id": "yaz2B0KGFehP"
      },
      "source": [
        "# Midterm Exam 💛💙"
      ]
    },
    {
      "cell_type": "markdown",
      "metadata": {
        "id": "_DmK1ONEFehQ"
      },
      "source": [
        "**Instructions** ❗️❗️\n",
        "\n",
        "❌ Do not remove or modify the notebook **sections**, **subsections**, **exam questions** or **any text** in this python notebook\n",
        "\n",
        "✔️ Put your answer in the designated cells below each question"
      ]
    },
    {
      "cell_type": "markdown",
      "metadata": {
        "id": "TMCAXKWCFehR"
      },
      "source": [
        "## Search"
      ]
    },
    {
      "cell_type": "code",
      "execution_count": 52,
      "metadata": {
        "id": "Fy8nEBRRFehR"
      },
      "outputs": [],
      "source": [
        "def linearSearch(my_list, number):\n",
        "\n",
        "    index = 0\n",
        "\n",
        "    for i in my_list:\n",
        "\n",
        "        if my_list[index] == number:\n",
        "            return index\n",
        "\n",
        "        index = index + 1\n",
        "\n",
        "    return -1"
      ]
    },
    {
      "cell_type": "markdown",
      "metadata": {
        "id": "AjAevpueFehS"
      },
      "source": [
        "1. Using **linear search**, write a `findLargestIncrease()` function to find the largest increase in value between two adjacent numbers in your student number `(10 points)`\n",
        "\n",
        "    **Example:**\n",
        "\n",
        "    student_number = [2,0,2,2,6,2,5,1,9,3]\n",
        "\n",
        "    **Expected Output:**\n",
        "\n",
        "    findLargestIncrease(student_number)\n",
        "\n",
        "    Output: Between 1 and 9\n",
        "\n",
        "    **Explanation:**\n",
        "\n",
        "    From this student_number, the largest increase happened from number 1 to number 9"
      ]
    },
    {
      "cell_type": "code",
      "execution_count": 70,
      "metadata": {
        "id": "JE8nEfyJFehS",
        "outputId": "cff4a9af-18cc-4c76-d145-fe489d6cbde8",
        "colab": {
          "base_uri": "https://localhost:8080/"
        }
      },
      "outputs": [
        {
          "output_type": "stream",
          "name": "stdout",
          "text": [
            "Between 0 and 8\n"
          ]
        }
      ],
      "source": [
        "# put your answer here\n",
        "def findLargestIncrease(num_list):\n",
        "  largest_increase = 0\n",
        "  num_1 = 0\n",
        "  num_2 = 0\n",
        "  for i in range(len(num_list) - 1):\n",
        "    dif = num_list[i] - num_list[i+1]\n",
        "    if dif < largest_increase:\n",
        "      largest_increase = dif\n",
        "      num_1 = num_list[i]\n",
        "      num_2 = num_list[i+1]\n",
        "  print(f\"Between {num_list[linearSearch(num_list, num_1)]} and {num_list[linearSearch(num_list, num_2)]}\")\n",
        "\n",
        "student_number = [2, 0, 2, 2, 1, 0, 8, 8, 6, 4]\n",
        "findLargestIncrease(student_number)\n"
      ]
    },
    {
      "cell_type": "markdown",
      "metadata": {
        "id": "nMyr1fNyFehS"
      },
      "source": [
        "2. Using **linear search**, write a `findLargestDecrease()` function to find the largest decrease in value between two adjacent numbers in your student number `(10 points)`\n",
        "\n",
        "    **Example:**\n",
        "\n",
        "    student_number = [2,0,2,2,6,2,5,1,9,3]\n",
        "\n",
        "    **Expected Output:**\n",
        "\n",
        "    findLargestDecrease(student_number)\n",
        "\n",
        "    Output: Between 9 and 3\n",
        "\n",
        "    **Explanation:**\n",
        "\n",
        "    From this student_number, the largest decrease happened from number 9 to number 3"
      ]
    },
    {
      "cell_type": "code",
      "execution_count": 71,
      "metadata": {
        "id": "bfMfQVbVFehS",
        "outputId": "345f1f77-63b8-4f22-ecf7-a5273b6a467f",
        "colab": {
          "base_uri": "https://localhost:8080/"
        }
      },
      "outputs": [
        {
          "output_type": "stream",
          "name": "stdout",
          "text": [
            "Between 2 and 0\n"
          ]
        }
      ],
      "source": [
        "# put your answer here\n",
        "def findLargestDecrease(num_list):\n",
        "  largest_decrease = 0\n",
        "  num_1 = 0\n",
        "  num_2 = 0\n",
        "  for i in range(len(num_list) - 1):\n",
        "    dif = num_list[i] - num_list[i+1]\n",
        "    if dif > largest_decrease:\n",
        "      largest_decrease = dif\n",
        "      num_1 = num_list[i]\n",
        "      num_2 = num_list[i+1]\n",
        "  print(f\"Between {num_list[linearSearch(num_list, num_1)]} and {num_list[linearSearch(num_list, num_2)]}\")\n",
        "\n",
        "student_number = [2, 0, 2, 2, 1, 0, 8, 8, 6, 4]\n",
        "findLargestDecrease(student_number)"
      ]
    },
    {
      "cell_type": "markdown",
      "metadata": {
        "id": "NtKSQn9QFehS"
      },
      "source": [
        "## Linked List"
      ]
    },
    {
      "cell_type": "code",
      "execution_count": 26,
      "metadata": {
        "id": "0HP5zyJcFehS"
      },
      "outputs": [],
      "source": [
        "class Node:\n",
        "\n",
        "    def __init__(self, data):\n",
        "        self.data = data\n",
        "        self.next = None  # null"
      ]
    },
    {
      "cell_type": "code",
      "execution_count": 27,
      "metadata": {
        "id": "A-8Uefe7FehS"
      },
      "outputs": [],
      "source": [
        "class LinkedList:\n",
        "\n",
        "    def __init__(self):\n",
        "        self.head = None\n",
        "\n",
        "    def traverse(self, node):\n",
        "        while node:\n",
        "            print(node.data, end=\" -> \")\n",
        "            node = node.next"
      ]
    },
    {
      "cell_type": "markdown",
      "metadata": {
        "id": "uPgIJJuSFehT"
      },
      "source": [
        "**Instructions** ❗️❗️\n",
        "\n",
        "Use the pre-defined linked list class/functions to create a linked list"
      ]
    },
    {
      "cell_type": "markdown",
      "metadata": {
        "id": "WIwpW7Q2FehT"
      },
      "source": [
        "1. Create a Singly linked list named **num_list** and print all of its elements. `(5 points)`\n",
        "\n",
        "- **num_list** should contain all digits of your student number.\n",
        "\n",
        "    **Expected Output:**\n",
        "\n",
        "    print(num_list)\n",
        "\n",
        "    [2, 0, 2, 2, 1, 2, 3, 4, 5, 6]"
      ]
    },
    {
      "cell_type": "code",
      "execution_count": 43,
      "metadata": {
        "id": "Lihv0JPiFehT",
        "outputId": "d6ea8de1-3615-4085-f9c4-d7c219bafa67",
        "colab": {
          "base_uri": "https://localhost:8080/"
        }
      },
      "outputs": [
        {
          "output_type": "stream",
          "name": "stdout",
          "text": [
            "2 -> 0 -> 2 -> 2 -> 1 -> 0 -> 8 -> 8 -> 6 -> 4 -> "
          ]
        }
      ],
      "source": [
        "# put your answer here\n",
        "num_list = LinkedList()\n",
        "num_list.head = Node(2)\n",
        "node_2 = Node(0)\n",
        "node_3 = Node(2)\n",
        "node_4 = Node(2)\n",
        "node_5 = Node(1)\n",
        "node_6 = Node(0)\n",
        "node_7 = Node(8)\n",
        "node_8 = Node(8)\n",
        "node_9 = Node(6)\n",
        "node_10 = Node(4)\n",
        "\n",
        "num_list.head.next = node_2\n",
        "node_2.next = node_3\n",
        "node_3.next = node_4\n",
        "node_4.next = node_5\n",
        "node_5.next = node_6\n",
        "node_6.next = node_7\n",
        "node_7.next = node_8\n",
        "node_8.next = node_9\n",
        "node_9.next = node_10\n",
        "node_10.next = None\n",
        "\n",
        "num_list.traverse(num_list.head)\n"
      ]
    },
    {
      "cell_type": "markdown",
      "metadata": {
        "id": "dqA2UYrYFehT"
      },
      "source": [
        "2. Write a `hasPrime()` function to test whether a prime number is in the last six digits of **num_list**. `(5 points)`\n",
        "\n",
        "- If a prime number is in the last six digits of **num_list**, the method should return **true**\n",
        "\n",
        "- If a prime number is not in the last six digits of **num_list**, the method should return **false**\n",
        "\n",
        "    **Expected Output:**\n",
        "\n",
        "    hasPrime(num_list)\n",
        "\n",
        "    True"
      ]
    },
    {
      "cell_type": "code",
      "execution_count": 44,
      "metadata": {
        "id": "GYwsQNz5FehT",
        "outputId": "2d8d1f08-d820-467d-aa2e-56fbf2903700",
        "colab": {
          "base_uri": "https://localhost:8080/"
        }
      },
      "outputs": [
        {
          "output_type": "execute_result",
          "data": {
            "text/plain": [
              "False"
            ]
          },
          "metadata": {},
          "execution_count": 44
        }
      ],
      "source": [
        "# put your answer here\n",
        "def list_size(num_list):\n",
        "  size = 0\n",
        "  pointer = num_list.head\n",
        "  while pointer is not None:\n",
        "    size += 1\n",
        "    pointer = pointer.next\n",
        "\n",
        "  return size - 6\n",
        "\n",
        "def hasPrime(num_list):\n",
        "  size = list_size(num_list)\n",
        "  isPrime = False\n",
        "\n",
        "  pointer = num_list.head\n",
        "  while pointer is not None:\n",
        "    if size != 0:\n",
        "      size -= 1\n",
        "    elif pointer.data > 2:\n",
        "      for i in range (2, pointer.data):\n",
        "        if pointer.data % i == 0:\n",
        "          isPrime = False\n",
        "          break\n",
        "        else:\n",
        "          isPrime = True\n",
        "\n",
        "    if isPrime is True:\n",
        "      return True\n",
        "    else:\n",
        "      pointer = pointer.next\n",
        "\n",
        "  return False\n",
        "\n",
        "hasPrime(num_list)"
      ]
    },
    {
      "cell_type": "markdown",
      "metadata": {
        "id": "5Qb0BOiwFehT"
      },
      "source": [
        "3. Write a `removeZeroes()` function to remove all occurrences of zeroes in **num_list**. `(5 points)`\n",
        "\n",
        "- If a zero is in **num_list**, return **num_list**\n",
        "\n",
        "- If there are no zeroes in **num_list**, return **\"no zeros found\"**\n",
        "\n",
        "    **Expected Output:**\n",
        "\n",
        "    removeZeroes(num_list)\n",
        "\n",
        "    [2, 2, 1, 2, 3, 4, 5, 6]"
      ]
    },
    {
      "cell_type": "code",
      "execution_count": 46,
      "metadata": {
        "id": "k1vAHUYuFehT",
        "outputId": "9b245cdd-4b14-4f4f-f643-66a7df05db20",
        "colab": {
          "base_uri": "https://localhost:8080/"
        }
      },
      "outputs": [
        {
          "output_type": "stream",
          "name": "stdout",
          "text": [
            "2 -> 2 -> 2 -> - -> 1 -> 8 -> 8 -> 6 -> 4 -> "
          ]
        }
      ],
      "source": [
        "# put your answer here\n",
        "def removeZeroes(num_list):\n",
        "  hasZero = False\n",
        "  pointer = num_list.head\n",
        "  while pointer.next != None:\n",
        "    if pointer.next.data == 0:\n",
        "      pointer.next = pointer.next.next\n",
        "      hasZero = True\n",
        "    pointer = pointer.next\n",
        "\n",
        "  if hasZero is True:\n",
        "    num_list.traverse(num_list.head)\n",
        "  else:\n",
        "    print(\"no zeros found\")\n",
        "\n",
        "removeZeroes(num_list)"
      ]
    },
    {
      "cell_type": "markdown",
      "metadata": {
        "id": "SKAlpglNFehT"
      },
      "source": [
        "4. Insert a dash symbol between the 4th and 5th digit in **num_list**. `(5 points)`\n",
        "\n",
        "    **Expected Output:**\n",
        "\n",
        "    print(num_list)\n",
        "\n",
        "    [2, 0, 2, 2, \"-\", 1, 2, 3, 4, 5, 6]"
      ]
    },
    {
      "cell_type": "code",
      "execution_count": 45,
      "metadata": {
        "id": "vF7fimZ-FehT",
        "outputId": "c0aa035c-dc35-498d-d149-ab751fa7cf8d",
        "colab": {
          "base_uri": "https://localhost:8080/"
        }
      },
      "outputs": [
        {
          "output_type": "stream",
          "name": "stdout",
          "text": [
            "2 -> 0 -> 2 -> 2 -> - -> 1 -> 0 -> 8 -> 8 -> 6 -> 4 -> "
          ]
        }
      ],
      "source": [
        "# put your answer here\n",
        "dash_node = Node(\"-\")\n",
        "node_4.next = dash_node\n",
        "dash_node.next = node_5\n",
        "num_list.traverse(num_list.head)"
      ]
    },
    {
      "cell_type": "markdown",
      "metadata": {
        "id": "KkC-LgdxFehT"
      },
      "source": [
        "## Stack"
      ]
    },
    {
      "cell_type": "code",
      "execution_count": 32,
      "metadata": {
        "id": "UYTqB1u_FehU"
      },
      "outputs": [],
      "source": [
        "# Creating a stack\n",
        "def create_stack():\n",
        "    stack = []\n",
        "    return stack\n",
        "\n",
        "\n",
        "def print_stack(stack):\n",
        "\n",
        "    if (check_empty(stack)):\n",
        "        return \"stack is empty\"\n",
        "\n",
        "    # Create a copy of the stack and reverse the elements\n",
        "    tempStack = stack.copy()\n",
        "    tempStack.reverse()\n",
        "\n",
        "    # Print all elements using a loop\n",
        "    for i in tempStack:\n",
        "        print(i)\n",
        "\n",
        "    # Delete the copy to free up memory\n",
        "    del tempStack\n",
        "\n",
        "# Creating an empty stack\n",
        "\n",
        "\n",
        "def check_empty(stack):\n",
        "    return len(stack) == 0\n",
        "\n",
        "\n",
        "# Adding items into the stack\n",
        "def push(stack, item):\n",
        "    stack.append(item)\n",
        "    print(\"pushed item: \", item)\n",
        "\n",
        "\n",
        "# Removing an element from the stack\n",
        "def pop(stack):\n",
        "    if (check_empty(stack)):\n",
        "        return \"stack is empty\"\n",
        "\n",
        "    return stack.pop()\n",
        "\n",
        "\n",
        "def peek(stack):\n",
        "\n",
        "    # Use negative indexing to display the last element of the list\n",
        "    print(stack[-1])"
      ]
    },
    {
      "cell_type": "markdown",
      "metadata": {
        "id": "wLAQchs8FehU"
      },
      "source": [
        "**Instructions** ❗️❗️\n",
        "\n",
        "Use the pre-defined stack class/functions to create a stack"
      ]
    },
    {
      "cell_type": "markdown",
      "metadata": {
        "id": "37cg9BoCFehU"
      },
      "source": [
        "1. Create two (2) stacks named **name_stack** and **num_stack** `(5 points)`\n",
        "\n",
        "- **name_stack** should contain all letters of your first name.\n",
        "- **num_stack** should contain all digits of your student number.\n",
        "\n",
        "    **Expected Output:**\n",
        "\n",
        "    print(name_stack)\n",
        "\n",
        "    ['E', 'L', 'I', 'Z', 'E', 'R']\n",
        "\n",
        "    print(num_stack)\n",
        "\n",
        "    [2,0,2,2,1,2,3,4,5,6]"
      ]
    },
    {
      "cell_type": "code",
      "execution_count": 33,
      "metadata": {
        "id": "HlUIUQzQFehU",
        "outputId": "54f01f64-d1ac-4fb4-a4c7-2c366dcdbf02",
        "colab": {
          "base_uri": "https://localhost:8080/"
        }
      },
      "outputs": [
        {
          "output_type": "stream",
          "name": "stdout",
          "text": [
            "pushed item:  B\n",
            "pushed item:  L\n",
            "pushed item:  I\n",
            "pushed item:  X\n",
            "pushed item:  2\n",
            "pushed item:  0\n",
            "pushed item:  2\n",
            "pushed item:  2\n",
            "pushed item:  1\n",
            "pushed item:  0\n",
            "pushed item:  8\n",
            "pushed item:  8\n",
            "pushed item:  6\n",
            "pushed item:  4\n",
            "['B', 'L', 'I', 'X']\n",
            "[2, 0, 2, 2, 1, 0, 8, 8, 6, 4]\n"
          ]
        }
      ],
      "source": [
        "# put your answer here\n",
        "name_stack = create_stack()\n",
        "push(name_stack, 'B')\n",
        "push(name_stack, 'L')\n",
        "push(name_stack, 'I')\n",
        "push(name_stack, 'X')\n",
        "\n",
        "num_stack = create_stack()\n",
        "push(num_stack, 2)\n",
        "push(num_stack, 0)\n",
        "push(num_stack, 2)\n",
        "push(num_stack, 2)\n",
        "push(num_stack, 1)\n",
        "push(num_stack, 0)\n",
        "push(num_stack, 8)\n",
        "push(num_stack, 8)\n",
        "push(num_stack, 6)\n",
        "push(num_stack, 4)\n",
        "\n",
        "print(name_stack)\n",
        "print(num_stack)"
      ]
    },
    {
      "cell_type": "markdown",
      "metadata": {
        "id": "8cySe9LXFehU"
      },
      "source": [
        "2. Create a stack named **my_stack** that follows the following format: `(5 points)`\n",
        "\n",
        "- The first element should be the **5th digit in your student number**\n",
        "- The succeeding elements should be the letters of your **first name**\n",
        "- The last element should be the **last digit of your student number**\n",
        "\n",
        "    **Expected Output:**\n",
        "\n",
        "    my_stack = [1, E, L, I, Z, E, R, 6]"
      ]
    },
    {
      "cell_type": "code",
      "execution_count": 34,
      "metadata": {
        "id": "bEnCoAhjFehU",
        "outputId": "180190b9-05f9-4817-ffe7-7540cf1461fa",
        "colab": {
          "base_uri": "https://localhost:8080/"
        }
      },
      "outputs": [
        {
          "output_type": "stream",
          "name": "stdout",
          "text": [
            "pushed item:  1\n",
            "pushed item:  B\n",
            "pushed item:  L\n",
            "pushed item:  I\n",
            "pushed item:  X\n",
            "pushed item:  4\n",
            "[1, 'B', 'L', 'I', 'X', 4]\n"
          ]
        }
      ],
      "source": [
        "# put your answer here\n",
        "my_stack = create_stack()\n",
        "push(my_stack, num_stack[4])\n",
        "for i in range(len(name_stack)):\n",
        "  push(my_stack, name_stack[i])\n",
        "push(my_stack, num_stack[len(num_stack) - 1])\n",
        "print(my_stack)"
      ]
    },
    {
      "cell_type": "markdown",
      "metadata": {
        "id": "8a8_KP5nFehU"
      },
      "source": [
        "3. Write a `verifyStack()` function that will take in `my_stack` and check if its format has been followed `(10 points)`\n",
        "\n",
        "- Return **True** if the format has been followed\n",
        "- Return **False** if the format was not followed\n",
        "- Verify the format by checking the contents of **my_stack** with **name_stack** and **num_stack**\n",
        "\n",
        "    **Expected Output:**\n",
        "\n",
        "    my_stack = [1, E, L, I, Z, E, R, 6]\n",
        "\n",
        "    verifyStack(my_stack)\n",
        "\n",
        "    True\n",
        "\n",
        "    my_stack = [1, S, L, I, Z, E, R, 7]\n",
        "\n",
        "    verifyStack(my_stack)\n",
        "\n",
        "    False"
      ]
    },
    {
      "cell_type": "code",
      "execution_count": 35,
      "metadata": {
        "id": "RdANSxD0FehU",
        "outputId": "0263d2ad-96bf-4eee-dbad-b375f324816a",
        "colab": {
          "base_uri": "https://localhost:8080/"
        }
      },
      "outputs": [
        {
          "output_type": "execute_result",
          "data": {
            "text/plain": [
              "True"
            ]
          },
          "metadata": {},
          "execution_count": 35
        }
      ],
      "source": [
        "# put your answer here\n",
        "def verifyStack(my_stack):\n",
        "  if len(my_stack) > len(name_stack) + 2:\n",
        "    return False\n",
        "\n",
        "  for i in range(len(my_stack)):\n",
        "    if i == 0 and my_stack[i] == num_stack[4]:\n",
        "      pass\n",
        "    elif i < len(my_stack) - 1 and my_stack[i] == name_stack[i-1]:\n",
        "      pass\n",
        "    elif i == len(my_stack) - 1 and my_stack[i] == num_stack[len(num_stack) - 1]:\n",
        "      pass\n",
        "    else:\n",
        "      return False\n",
        "  return True\n",
        "\n",
        "verifyStack(my_stack)"
      ]
    },
    {
      "cell_type": "markdown",
      "metadata": {
        "id": "UC5C64B2FehU"
      },
      "source": [
        "## Queue"
      ]
    },
    {
      "cell_type": "code",
      "execution_count": 36,
      "metadata": {
        "id": "NJJ0j0LHFehU"
      },
      "outputs": [],
      "source": [
        "class Queue:\n",
        "    def __init__(self):\n",
        "        self.queue = []\n",
        "\n",
        "    # Add an element\n",
        "    def enqueue(self, item):\n",
        "        self.queue.append(item)\n",
        "\n",
        "    # Remove an element\n",
        "    def dequeue(self):\n",
        "        if len(self.queue) < 1:\n",
        "            return None\n",
        "        return self.queue.pop(0)\n",
        "\n",
        "    # Display  the queue\n",
        "    def display(self):\n",
        "        print(self.queue)\n",
        "\n",
        "    def size(self):\n",
        "        return len(self.queue)\n",
        "\n",
        "    def peek(self):\n",
        "        return self.queue[0]"
      ]
    },
    {
      "cell_type": "markdown",
      "metadata": {
        "id": "80OekpbeFehV"
      },
      "source": [
        "**Instructions** ❗️❗️\n",
        "\n",
        "Use the pre-defined queue class/functions to create a Queue"
      ]
    },
    {
      "cell_type": "markdown",
      "metadata": {
        "id": "_Hf0OP5cFehV"
      },
      "source": [
        "1. Create a simple queue named **num_queue** `(5 points)`\n",
        "\n",
        "- **num_queue** should contain all digits of your student number.\n",
        "\n",
        "    **Expected Output:**\n",
        "\n",
        "    print(num_queue)\n",
        "\n",
        "    [2,0,2,2,1,2,3,4,5,6]"
      ]
    },
    {
      "cell_type": "code",
      "execution_count": 37,
      "metadata": {
        "id": "_mgmE4ArFehV",
        "outputId": "e55e3ea0-aa37-4b27-e32f-fb91609589a0",
        "colab": {
          "base_uri": "https://localhost:8080/"
        }
      },
      "outputs": [
        {
          "output_type": "stream",
          "name": "stdout",
          "text": [
            "[2, 0, 2, 2, 1, 0, 8, 8, 6, 4]\n"
          ]
        }
      ],
      "source": [
        "# put your answer here\n",
        "num_queue = Queue()\n",
        "num_queue.enqueue(2)\n",
        "num_queue.enqueue(0)\n",
        "num_queue.enqueue(2)\n",
        "num_queue.enqueue(2)\n",
        "num_queue.enqueue(1)\n",
        "num_queue.enqueue(0)\n",
        "num_queue.enqueue(8)\n",
        "num_queue.enqueue(8)\n",
        "num_queue.enqueue(6)\n",
        "num_queue.enqueue(4)\n",
        "\n",
        "num_queue.display()"
      ]
    },
    {
      "cell_type": "markdown",
      "metadata": {
        "id": "1pHG8t6DFehV"
      },
      "source": [
        "2. Write a `getMax()` or `getMin()` function for **num_queue** `(5 points)`\n",
        "\n",
        "- If your student number ends with an odd number, create a `getMax()` function that will return the largest number in **num_queue**\n",
        "- If your student number ends with an even number, create a `getMin()` function that will return the lowest number in **num_queue**\n",
        "\n",
        "    **Expected Output for getMax():**\n",
        "\n",
        "    getMax(num_queue)\n",
        "\n",
        "    6\n",
        "\n",
        "    **Expected Output for getMin():**\n",
        "\n",
        "    getMin(num_queue)\n",
        "\n",
        "    0"
      ]
    },
    {
      "cell_type": "code",
      "execution_count": 38,
      "metadata": {
        "id": "itj2U610FehV",
        "outputId": "ee020ec5-c1bd-4320-de29-0e1d3dd8e1c8",
        "colab": {
          "base_uri": "https://localhost:8080/"
        }
      },
      "outputs": [
        {
          "output_type": "execute_result",
          "data": {
            "text/plain": [
              "0"
            ]
          },
          "metadata": {},
          "execution_count": 38
        }
      ],
      "source": [
        "# put your answer here\n",
        "def getMin(num_queue):\n",
        "  size = num_queue.size()\n",
        "  min = 0\n",
        "  while size > 0:\n",
        "    dequeued_element = num_queue.dequeue()\n",
        "    if min > dequeued_element:\n",
        "      min = dequeued_element\n",
        "    num_queue.enqueue(dequeued_element)\n",
        "    size -= 1\n",
        "\n",
        "  return min\n",
        "\n",
        "getMin(num_queue)"
      ]
    },
    {
      "cell_type": "markdown",
      "metadata": {
        "id": "YkgmP6GwFehV"
      },
      "source": [
        "3. Write a `getOdd()` or `getEven()` function for  **num_queue** `(5 points)`\n",
        "\n",
        "- If your student number ends with an **odd number**, create a `getOdd()` function that will return all odd numbers in **num_queue**\n",
        "- If your student number ends with an **even number**, create a `getEven()` function that will return all even numbers in **num_queue**\n",
        "\n",
        "    **Expected Output for getOdd():**\n",
        "\n",
        "    getOdd(num_queue)\n",
        "\n",
        "    [1, 3, 5]\n",
        "\n",
        "    **Expected Output for getEven():**\n",
        "\n",
        "    getEven(num_queue)\n",
        "\n",
        "    [0, 2, 4, 6]"
      ]
    },
    {
      "cell_type": "code",
      "execution_count": 39,
      "metadata": {
        "id": "2Bc7E1zNFehV",
        "outputId": "bb578212-3714-4c75-b04e-cff39937acb5",
        "colab": {
          "base_uri": "https://localhost:8080/"
        }
      },
      "outputs": [
        {
          "output_type": "execute_result",
          "data": {
            "text/plain": [
              "[0, 2, 4, 6, 8]"
            ]
          },
          "metadata": {},
          "execution_count": 39
        }
      ],
      "source": [
        "# put your answer here\n",
        "def getEven(num_queue):\n",
        "  size = num_queue.size()\n",
        "  even_list = []\n",
        "  while size > 0:\n",
        "    dequeued_element = num_queue.dequeue()\n",
        "    if dequeued_element % 2 == 0 and dequeued_element not in even_list:\n",
        "      even_list.append(dequeued_element)\n",
        "    num_queue.enqueue(dequeued_element)\n",
        "    size -= 1\n",
        "\n",
        "  return sorted(even_list)\n",
        "\n",
        "getEven(num_queue)"
      ]
    },
    {
      "cell_type": "markdown",
      "metadata": {
        "id": "kuzWF5g4FehV"
      },
      "source": [
        "4. Write a `removeDup()` function that will remove all duplicates in **num_queue** `(5 points)`\n",
        "\n",
        "    **Expected Output:**\n",
        "\n",
        "    removeDup(num_queue)\n",
        "\n",
        "    [2,0,1,3,4,5,6]"
      ]
    },
    {
      "cell_type": "code",
      "execution_count": 40,
      "metadata": {
        "id": "I8LeQP8MFehY",
        "outputId": "58aad044-a7b8-489e-e429-220eb7f9c3ed",
        "colab": {
          "base_uri": "https://localhost:8080/"
        }
      },
      "outputs": [
        {
          "output_type": "stream",
          "name": "stdout",
          "text": [
            "[2, 0, 1, 8, 6, 4]\n"
          ]
        }
      ],
      "source": [
        "# put your answer here\n",
        "def removeDup(num_queue):\n",
        "  temp_list = Queue()\n",
        "  while num_queue.size() > 0:\n",
        "    dequeued_element = num_queue.dequeue()\n",
        "    if dequeued_element in temp_list.queue:\n",
        "      continue\n",
        "    temp_list.enqueue(dequeued_element)\n",
        "\n",
        "  while temp_list.size() > 0:\n",
        "    num_queue.enqueue(temp_list.dequeue())\n",
        "\n",
        "  return num_queue\n",
        "\n",
        "removeDup(num_queue)\n",
        "num_queue.display()"
      ]
    },
    {
      "cell_type": "markdown",
      "metadata": {
        "id": "LVfZTh8YFehZ"
      },
      "source": [
        "## Sort"
      ]
    },
    {
      "cell_type": "markdown",
      "metadata": {
        "id": "bm9lonfzFehZ"
      },
      "source": [
        "**Instructions** ❗️❗️\n",
        "\n",
        "Use the any sorting algoritms"
      ]
    },
    {
      "cell_type": "markdown",
      "metadata": {
        "id": "EJTlxhEdFehZ"
      },
      "source": [
        "1. Using any sorting algorithm, sort the **last 6 digits** of your student number in ascending order `(5 points)`\n",
        "\n",
        "    **Example:**\n",
        "\n",
        "    student_number = [2,0,2,2,6,2,5,1,3,4]\n",
        "\n",
        "    **Expected Output:**\n",
        "\n",
        "    print(student_number)\n",
        "\n",
        "    [2,0,2,2,1,2,3,4,5,6]\n"
      ]
    },
    {
      "cell_type": "code",
      "execution_count": 41,
      "metadata": {
        "id": "MkZKfveOFehZ",
        "outputId": "03634cfa-4bb3-472f-d774-075917516e60",
        "colab": {
          "base_uri": "https://localhost:8080/"
        }
      },
      "outputs": [
        {
          "output_type": "stream",
          "name": "stdout",
          "text": [
            "[2, 0, 2, 2, 0, 1, 4, 6, 8, 8]\n"
          ]
        }
      ],
      "source": [
        "# put your answer here\n",
        "def partition(array, low, high):\n",
        "  pivot = array[high]\n",
        "  i = low - 1\n",
        "\n",
        "  for j in range(low, high):\n",
        "    if array[j] <= pivot:\n",
        "      i = i + 1\n",
        "      (array[i], array[j]) = (array[j], array[i])\n",
        "\n",
        "  (array[i + 1], array[high]) = (array[high], array[i + 1])\n",
        "\n",
        "  return i + 1\n",
        "\n",
        "\n",
        "\n",
        "def quickSort(array, low, high):\n",
        "  if low < high:\n",
        "    pi = partition(array, low, high)\n",
        "    quickSort(array, low, pi - 1)\n",
        "    quickSort(array, pi + 1, high)\n",
        "\n",
        "student_number = [2, 0, 2, 2, 1, 0, 8, 8, 6, 4]\n",
        "quickSort(student_number, len(student_number) - 6, len(student_number) - 1)\n",
        "print(student_number)"
      ]
    },
    {
      "cell_type": "markdown",
      "metadata": {
        "id": "sC2JZRZMFehZ"
      },
      "source": [
        "2. Using your student_number, separately sort the even numbers in **increasing order** and the odd numbers in **decreasing order** `(15 points)`\n",
        "\n",
        "    **Example:**\n",
        "\n",
        "    student_number = [2,0,2,2,1,2,3,4,5,6]\n",
        "\n",
        "    **Expected Output:**\n",
        "\n",
        "    print(student_number)\n",
        "\n",
        "    [0,2,2,2,2,4,6,5,3,1]"
      ]
    },
    {
      "cell_type": "code",
      "execution_count": 42,
      "metadata": {
        "id": "hWOh_ohcFehZ",
        "outputId": "8c6d792f-ab9f-4fbf-e59d-0e45d58024b8",
        "colab": {
          "base_uri": "https://localhost:8080/"
        }
      },
      "outputs": [
        {
          "output_type": "stream",
          "name": "stdout",
          "text": [
            "[0, 0, 2, 2, 2, 4, 6, 8, 8, 1]\n"
          ]
        }
      ],
      "source": [
        "# put your answer here\n",
        "def sort_even_and_odd(num_list):\n",
        "  even_numbers = []\n",
        "  odd_numbers = []\n",
        "\n",
        "  for i in num_list:\n",
        "    if i % 2 == 0:\n",
        "      even_numbers.append(i)\n",
        "    else:\n",
        "      odd_numbers.append(i)\n",
        "\n",
        "  quickSort(even_numbers, 0, len(even_numbers) - 1)\n",
        "  quickSort(odd_numbers, 0, len(odd_numbers) - 1)\n",
        "\n",
        "  num_index = 0\n",
        "  for j in even_numbers:\n",
        "    num_list[num_index] = j\n",
        "    num_index += 1\n",
        "\n",
        "  for k in odd_numbers:\n",
        "    num_list[num_index] = k\n",
        "    num_index += 1\n",
        "\n",
        "def partition(array, low, high):\n",
        "  pivot = array[high]\n",
        "  i = low - 1\n",
        "\n",
        "  for j in range(low, high):\n",
        "    if array[j] % 2 == 0 and array[j] <= pivot:\n",
        "      i = i + 1\n",
        "      (array[i], array[j]) = (array[j], array[i])\n",
        "    elif array[j] % 2 == 1 and array[j] >= pivot:\n",
        "      i = i + 1\n",
        "      (array[i], array[j]) = (array[j], array[i])\n",
        "  (array[i + 1], array[high]) = (array[high], array[i + 1])\n",
        "\n",
        "  return i + 1\n",
        "\n",
        "\n",
        "def quickSort(array, low, high):\n",
        "  if low < high:\n",
        "    pi = partition(array, low, high)\n",
        "    quickSort(array, low, pi - 1)\n",
        "    quickSort(array, pi + 1, high)\n",
        "\n",
        "student_number = [2, 0, 2, 2, 1, 0, 8, 8, 6, 4]\n",
        "sort_even_and_odd(student_number)\n",
        "print(student_number)"
      ]
    }
  ],
  "metadata": {
    "kernelspec": {
      "display_name": "Python 3",
      "language": "python",
      "name": "python3"
    },
    "language_info": {
      "codemirror_mode": {
        "name": "ipython",
        "version": 3
      },
      "file_extension": ".py",
      "mimetype": "text/x-python",
      "name": "python",
      "nbconvert_exporter": "python",
      "pygments_lexer": "ipython3",
      "version": "3.9.13"
    },
    "orig_nbformat": 4,
    "colab": {
      "provenance": [],
      "include_colab_link": true
    }
  },
  "nbformat": 4,
  "nbformat_minor": 0
}